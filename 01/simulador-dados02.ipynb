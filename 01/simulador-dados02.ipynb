{
 "cells": [
  {
   "cell_type": "code",
   "execution_count": 1,
   "metadata": {
    "collapsed": true
   },
   "outputs": [],
   "source": [
    "import random"
   ]
  },
  {
   "cell_type": "code",
   "execution_count": 3,
   "metadata": {},
   "outputs": [
    {
     "name": "stdout",
     "output_type": "stream",
     "text": [
      "Digite a quantidade: 5\n",
      "2\n",
      "2\n",
      "2\n",
      "5\n",
      "2\n",
      "A soma total foi: 13\n",
      "A média foi: 2.6\n",
      "O número máximo foi: 5\n",
      "O número mínimo foi: 2\n"
     ]
    }
   ],
   "source": [
    "quantidade = int(input(\"Digite a quantidade: \"))\n",
    "contador = 1\n",
    "dados = []\n",
    "while contador <= quantidade:\n",
    "    numero = random.randint(1, 6)\n",
    "    print(numero)\n",
    "    dados.append(numero)\n",
    "    contador += 1\n",
    "print(\"A soma total foi: \" + str(sum(dados)))\n",
    "print(\"A média foi: \" + str(sum(dados) / quantidade))\n",
    "print(\"O número máximo foi: \" + str(max(dados)))\n",
    "print(\"O número mínimo foi: \" + str(min(dados)))"
   ]
  },
  {
   "cell_type": "code",
   "execution_count": null,
   "metadata": {
    "collapsed": true
   },
   "outputs": [],
   "source": []
  }
 ],
 "metadata": {
  "kernelspec": {
   "display_name": "Python 3",
   "language": "python",
   "name": "python3"
  },
  "language_info": {
   "codemirror_mode": {
    "name": "ipython",
    "version": 3
   },
   "file_extension": ".py",
   "mimetype": "text/x-python",
   "name": "python",
   "nbconvert_exporter": "python",
   "pygments_lexer": "ipython3",
   "version": "3.6.1"
  }
 },
 "nbformat": 4,
 "nbformat_minor": 2
}
