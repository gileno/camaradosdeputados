{
 "cells": [
  {
   "cell_type": "code",
   "execution_count": 1,
   "metadata": {
    "collapsed": true
   },
   "outputs": [],
   "source": [
    "import random"
   ]
  },
  {
   "cell_type": "code",
   "execution_count": 14,
   "metadata": {},
   "outputs": [
    {
     "name": "stdout",
     "output_type": "stream",
     "text": [
      "7\n"
     ]
    }
   ],
   "source": [
    "numero = random.randint(1, 10)\n",
    "print(numero)"
   ]
  },
  {
   "cell_type": "code",
   "execution_count": 15,
   "metadata": {
    "collapsed": true
   },
   "outputs": [],
   "source": [
    "numero = random.randint(1, 10)"
   ]
  },
  {
   "cell_type": "code",
   "execution_count": 16,
   "metadata": {},
   "outputs": [
    {
     "name": "stdout",
     "output_type": "stream",
     "text": [
      "Digite um chute: 5\n"
     ]
    }
   ],
   "source": [
    "chute = input(\"Digite um chute: \")\n",
    "chute = int(chute)"
   ]
  },
  {
   "cell_type": "code",
   "execution_count": 17,
   "metadata": {},
   "outputs": [
    {
     "name": "stdout",
     "output_type": "stream",
     "text": [
      "Errou!\n"
     ]
    }
   ],
   "source": [
    "if numero == chute:\n",
    "    print(\"Acertou!\")\n",
    "else:\n",
    "    print(\"Errou!\")"
   ]
  },
  {
   "cell_type": "code",
   "execution_count": 18,
   "metadata": {},
   "outputs": [
    {
     "name": "stdout",
     "output_type": "stream",
     "text": [
      "4\n"
     ]
    }
   ],
   "source": [
    "print(numero)"
   ]
  },
  {
   "cell_type": "code",
   "execution_count": 22,
   "metadata": {},
   "outputs": [
    {
     "name": "stdout",
     "output_type": "stream",
     "text": [
      "Digite um chute: 5\n",
      "O número é menor\n",
      "3\n"
     ]
    }
   ],
   "source": [
    "numero = random.randint(1, 10)\n",
    "chute = input(\"Digite um chute: \")\n",
    "chute = int(chute)\n",
    "diferenca = numero - chute\n",
    "if diferenca == 0:\n",
    "    print(\"Acertou!\")\n",
    "elif diferenca < 0:\n",
    "    print(\"O número é menor\")\n",
    "else:\n",
    "    print(\"O número é maior\")\n",
    "print(numero)"
   ]
  },
  {
   "cell_type": "code",
   "execution_count": 23,
   "metadata": {},
   "outputs": [
    {
     "name": "stdout",
     "output_type": "stream",
     "text": [
      "Digite um chute: 5\n",
      "O número é maior\n",
      "Digite um chute: 8\n",
      "O número é maior\n",
      "Digite um chute: 9\n",
      "Acertou!\n",
      "9\n"
     ]
    }
   ],
   "source": [
    "numero = random.randint(1, 10)\n",
    "contador = 0\n",
    "while contador < 3:\n",
    "    chute = input(\"Digite um chute: \")\n",
    "    chute = int(chute)\n",
    "    diferenca = numero - chute\n",
    "    if diferenca == 0:\n",
    "        print(\"Acertou!\")\n",
    "    elif diferenca < 0:\n",
    "        print(\"O número é menor\")\n",
    "    else:\n",
    "        print(\"O número é maior\")\n",
    "    contador = contador + 1\n",
    "print(numero)"
   ]
  },
  {
   "cell_type": "code",
   "execution_count": null,
   "metadata": {
    "collapsed": true
   },
   "outputs": [],
   "source": []
  }
 ],
 "metadata": {
  "kernelspec": {
   "display_name": "Python 3",
   "language": "python",
   "name": "python3"
  },
  "language_info": {
   "codemirror_mode": {
    "name": "ipython",
    "version": 3
   },
   "file_extension": ".py",
   "mimetype": "text/x-python",
   "name": "python",
   "nbconvert_exporter": "python",
   "pygments_lexer": "ipython3",
   "version": "3.6.1"
  }
 },
 "nbformat": 4,
 "nbformat_minor": 2
}
