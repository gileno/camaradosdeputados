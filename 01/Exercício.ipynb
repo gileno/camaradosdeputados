{
 "cells": [
  {
   "cell_type": "markdown",
   "metadata": {},
   "source": [
    "#### Faça um programa que leia uma palavra e troque as vogais por \"*\""
   ]
  },
  {
   "cell_type": "code",
   "execution_count": 3,
   "metadata": {},
   "outputs": [
    {
     "name": "stdout",
     "output_type": "stream",
     "text": [
      "Digite uma palavra: AEAAasasda5555\n",
      "*****s*sd*5555\n"
     ]
    }
   ],
   "source": [
    "palavra = input(\"Digite uma palavra: \")\n",
    "nova_palavra = \"\"\n",
    "for letra in palavra:\n",
    "    if letra.lower() in \"aeiou\":\n",
    "        nova_palavra = nova_palavra + \"*\"\n",
    "    else:\n",
    "        nova_palavra = nova_palavra + letra\n",
    "print(nova_palavra)"
   ]
  },
  {
   "cell_type": "markdown",
   "metadata": {},
   "source": [
    "#### Solicite duas datas (dd/mm/yyyy) ao usuário e verifique qual é a maior"
   ]
  },
  {
   "cell_type": "code",
   "execution_count": 8,
   "metadata": {},
   "outputs": [
    {
     "name": "stdout",
     "output_type": "stream",
     "text": [
      "Data 1: 11/11/1111\n",
      "Data 2: 11/11/1111\n",
      "As datas são iguais\n"
     ]
    }
   ],
   "source": [
    "data1 = input(\"Data 1: \")\n",
    "data2 = input(\"Data 2: \")\n",
    "data1_dia, data1_mes, data1_ano = data1.split(\"/\")\n",
    "data2_dia, data2_mes, data2_ano = data2.split(\"/\")\n",
    "if int(data1_ano) > int(data2_ano):\n",
    "    print(\"Data 1 é maior\")\n",
    "elif int(data2_ano) > int(data1_ano):\n",
    "    print(\"Data 2 é maior\")\n",
    "elif int(data1_mes) > int(data2_mes):\n",
    "    print(\"Data 1 é maior\")\n",
    "elif int(data2_mes) > int(data1_mes):\n",
    "    print(\"Data 2 é maior\")\n",
    "elif int(data1_dia) > int(data2_dia):\n",
    "    print(\"Data 1 é maior\")\n",
    "elif int(data2_dia) > int(data1_dia):\n",
    "    print(\"Data 2 é maior\")\n",
    "else:\n",
    "    print(\"As datas são iguais\")"
   ]
  },
  {
   "cell_type": "code",
   "execution_count": 9,
   "metadata": {},
   "outputs": [
    {
     "name": "stdout",
     "output_type": "stream",
     "text": [
      "Data 1: 11/11/1111\n",
      "Data 2: 12/11/1111\n",
      "Data 2 é maior\n"
     ]
    }
   ],
   "source": [
    "data1 = input(\"Data 1: \")\n",
    "data2 = input(\"Data 2: \")\n",
    "data1_dia, data1_mes, data1_ano = data1.split(\"/\")\n",
    "data2_dia, data2_mes, data2_ano = data2.split(\"/\")\n",
    "data1 = int(data1_ano + data1_mes + data1_dia)\n",
    "data2 = int(data2_ano + data2_mes + data2_dia)\n",
    "if data1 > data2:\n",
    "    print(\"Data 1 é maior\")\n",
    "elif data2 > data1:\n",
    "    print(\"Data 2 é maior\")\n",
    "else:\n",
    "    print(\"As datas são iguais\")"
   ]
  },
  {
   "cell_type": "code",
   "execution_count": 10,
   "metadata": {
    "collapsed": true
   },
   "outputs": [],
   "source": [
    "import datetime"
   ]
  },
  {
   "cell_type": "code",
   "execution_count": 12,
   "metadata": {},
   "outputs": [
    {
     "name": "stdout",
     "output_type": "stream",
     "text": [
      "Data 1: 25/12/2017\n",
      "Data 2: 21/12/2017\n",
      "Data 1 é maior\n",
      "2017-12-25T00:00:00\n",
      "2017-12-21T00:00:00\n"
     ]
    }
   ],
   "source": [
    "data1 = input(\"Data 1: \")\n",
    "data2 = input(\"Data 2: \")\n",
    "data1 = datetime.datetime.strptime(data1, \"%d/%m/%Y\")\n",
    "data2 = datetime.datetime.strptime(data2, \"%d/%m/%Y\")\n",
    "if data1 > data2:\n",
    "    print(\"Data 1 é maior\")\n",
    "elif data2 > data1:\n",
    "    print(\"Data 2 é maior\")\n",
    "else:\n",
    "    print(\"As datas são iguais\")\n",
    "print(data1.isoformat())\n",
    "print(data2.isoformat())"
   ]
  },
  {
   "cell_type": "markdown",
   "metadata": {},
   "source": [
    "#### Crie uma função que recebe um número e retorna o fatorial dele (com e sem recursão)"
   ]
  },
  {
   "cell_type": "code",
   "execution_count": 14,
   "metadata": {
    "collapsed": true
   },
   "outputs": [],
   "source": [
    "def fatorial(numero):\n",
    "    resultado = 1\n",
    "    while numero > 1:\n",
    "        resultado = resultado * numero\n",
    "        numero = numero - 1\n",
    "    return resultado"
   ]
  },
  {
   "cell_type": "code",
   "execution_count": 15,
   "metadata": {},
   "outputs": [
    {
     "data": {
      "text/plain": [
       "120"
      ]
     },
     "execution_count": 15,
     "metadata": {},
     "output_type": "execute_result"
    }
   ],
   "source": [
    "fatorial(5)"
   ]
  },
  {
   "cell_type": "code",
   "execution_count": 16,
   "metadata": {
    "collapsed": true
   },
   "outputs": [],
   "source": [
    "def fatorial(numero):\n",
    "    if numero in [0, 1]:\n",
    "        return 1\n",
    "    return numero * fatorial(numero - 1)"
   ]
  },
  {
   "cell_type": "code",
   "execution_count": 17,
   "metadata": {},
   "outputs": [
    {
     "data": {
      "text/plain": [
       "120"
      ]
     },
     "execution_count": 17,
     "metadata": {},
     "output_type": "execute_result"
    }
   ],
   "source": [
    "fatorial(5)"
   ]
  },
  {
   "cell_type": "code",
   "execution_count": null,
   "metadata": {
    "collapsed": true
   },
   "outputs": [],
   "source": []
  }
 ],
 "metadata": {
  "kernelspec": {
   "display_name": "Python 3",
   "language": "python",
   "name": "python3"
  },
  "language_info": {
   "codemirror_mode": {
    "name": "ipython",
    "version": 3
   },
   "file_extension": ".py",
   "mimetype": "text/x-python",
   "name": "python",
   "nbconvert_exporter": "python",
   "pygments_lexer": "ipython3",
   "version": "3.6.1"
  }
 },
 "nbformat": 4,
 "nbformat_minor": 2
}
