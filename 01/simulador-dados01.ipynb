{
 "cells": [
  {
   "cell_type": "code",
   "execution_count": 1,
   "metadata": {
    "collapsed": true
   },
   "outputs": [],
   "source": [
    "import random"
   ]
  },
  {
   "cell_type": "code",
   "execution_count": 2,
   "metadata": {},
   "outputs": [
    {
     "name": "stdout",
     "output_type": "stream",
     "text": [
      "6\n"
     ]
    }
   ],
   "source": [
    "numero = random.randint(1, 6)\n",
    "print(numero)"
   ]
  },
  {
   "cell_type": "code",
   "execution_count": 4,
   "metadata": {},
   "outputs": [
    {
     "name": "stdout",
     "output_type": "stream",
     "text": [
      "Digite a quantidade: 5\n",
      "5\n",
      "3\n",
      "4\n",
      "3\n",
      "6\n",
      "A soma total foi: 21\n"
     ]
    }
   ],
   "source": [
    "quantidade = int(input(\"Digite a quantidade: \"))\n",
    "contador = 1\n",
    "soma = 0\n",
    "while contador <= quantidade:\n",
    "    numero = random.randint(1, 6)\n",
    "    soma = soma + numero\n",
    "    print(numero)\n",
    "    contador += 1\n",
    "print(\"A soma total foi: \" + str(soma))"
   ]
  },
  {
   "cell_type": "code",
   "execution_count": 6,
   "metadata": {},
   "outputs": [
    {
     "name": "stdout",
     "output_type": "stream",
     "text": [
      "Digite a quantidade: 5\n",
      "5\n",
      "5\n",
      "6\n",
      "3\n",
      "5\n",
      "A soma total foi: 24\n",
      "A média foi: 4.8\n",
      "O número máximo foi: 6\n",
      "O número mínimo foi: 3\n"
     ]
    }
   ],
   "source": [
    "quantidade = int(input(\"Digite a quantidade: \"))\n",
    "contador = 1\n",
    "soma = 0\n",
    "maximo = 1\n",
    "minimo = 6\n",
    "while contador <= quantidade:\n",
    "    numero = random.randint(1, 6)\n",
    "    soma = soma + numero\n",
    "    print(numero)\n",
    "    if maximo < numero:\n",
    "        maximo = numero\n",
    "    if minimo > numero:\n",
    "        minimo = numero\n",
    "    contador += 1\n",
    "print(\"A soma total foi: \" + str(soma))\n",
    "print(\"A média foi: \" + str(soma / quantidade))\n",
    "print(\"O número máximo foi: \" + str(maximo))\n",
    "print(\"O número mínimo foi: \" + str(minimo))"
   ]
  },
  {
   "cell_type": "code",
   "execution_count": null,
   "metadata": {
    "collapsed": true
   },
   "outputs": [],
   "source": []
  }
 ],
 "metadata": {
  "kernelspec": {
   "display_name": "Python 3",
   "language": "python",
   "name": "python3"
  },
  "language_info": {
   "codemirror_mode": {
    "name": "ipython",
    "version": 3
   },
   "file_extension": ".py",
   "mimetype": "text/x-python",
   "name": "python",
   "nbconvert_exporter": "python",
   "pygments_lexer": "ipython3",
   "version": "3.6.1"
  }
 },
 "nbformat": 4,
 "nbformat_minor": 2
}
