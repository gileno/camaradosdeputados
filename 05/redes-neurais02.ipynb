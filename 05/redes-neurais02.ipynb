{
 "cells": [
  {
   "cell_type": "code",
   "execution_count": 1,
   "metadata": {
    "collapsed": true
   },
   "outputs": [],
   "source": [
    "%matplotlib inline\n",
    "import pandas as pd\n",
    "import matplotlib.pyplot as plt\n",
    "\n",
    "from sklearn import neural_network\n",
    "from sklearn.model_selection import train_test_split"
   ]
  },
  {
   "cell_type": "code",
   "execution_count": 2,
   "metadata": {
    "collapsed": true
   },
   "outputs": [],
   "source": [
    "copacabana = pd.read_csv('copacabana.csv', delimiter=';')"
   ]
  },
  {
   "cell_type": "code",
   "execution_count": 3,
   "metadata": {},
   "outputs": [
    {
     "data": {
      "text/html": [
       "<div>\n",
       "<style>\n",
       "    .dataframe thead tr:only-child th {\n",
       "        text-align: right;\n",
       "    }\n",
       "\n",
       "    .dataframe thead th {\n",
       "        text-align: left;\n",
       "    }\n",
       "\n",
       "    .dataframe tbody tr th {\n",
       "        vertical-align: top;\n",
       "    }\n",
       "</style>\n",
       "<table border=\"1\" class=\"dataframe\">\n",
       "  <thead>\n",
       "    <tr style=\"text-align: right;\">\n",
       "      <th></th>\n",
       "      <th>Posicao</th>\n",
       "      <th>Quartos</th>\n",
       "      <th>Vagas</th>\n",
       "      <th>DistIpanema</th>\n",
       "      <th>DistPraia</th>\n",
       "      <th>DistFavela</th>\n",
       "      <th>RendaMedia</th>\n",
       "      <th>RendaMovel</th>\n",
       "      <th>RendaMovelRua</th>\n",
       "      <th>Vu2009</th>\n",
       "      <th>Mes</th>\n",
       "      <th>Idade</th>\n",
       "      <th>Tipologia</th>\n",
       "      <th>AreaConstruida</th>\n",
       "      <th>VAL_UNIT</th>\n",
       "      <th>X</th>\n",
       "      <th>Y</th>\n",
       "    </tr>\n",
       "  </thead>\n",
       "  <tbody>\n",
       "    <tr>\n",
       "      <th>0</th>\n",
       "      <td>1</td>\n",
       "      <td>3.0</td>\n",
       "      <td>0.01</td>\n",
       "      <td>1144</td>\n",
       "      <td>311</td>\n",
       "      <td>146</td>\n",
       "      <td>969501</td>\n",
       "      <td>1028834</td>\n",
       "      <td>999168</td>\n",
       "      <td>1750</td>\n",
       "      <td>509</td>\n",
       "      <td>37.0</td>\n",
       "      <td>1</td>\n",
       "      <td>95</td>\n",
       "      <td>4379</td>\n",
       "      <td>685365.0700</td>\n",
       "      <td>7457802.680</td>\n",
       "    </tr>\n",
       "    <tr>\n",
       "      <th>1</th>\n",
       "      <td>0</td>\n",
       "      <td>2.0</td>\n",
       "      <td>0.01</td>\n",
       "      <td>2456</td>\n",
       "      <td>502</td>\n",
       "      <td>254</td>\n",
       "      <td>1472861</td>\n",
       "      <td>1137759</td>\n",
       "      <td>1305310</td>\n",
       "      <td>2300</td>\n",
       "      <td>484</td>\n",
       "      <td>30.0</td>\n",
       "      <td>1</td>\n",
       "      <td>71</td>\n",
       "      <td>6479</td>\n",
       "      <td>685941.5500</td>\n",
       "      <td>7459001.320</td>\n",
       "    </tr>\n",
       "    <tr>\n",
       "      <th>2</th>\n",
       "      <td>0</td>\n",
       "      <td>2.0</td>\n",
       "      <td>0.01</td>\n",
       "      <td>2448</td>\n",
       "      <td>772</td>\n",
       "      <td>229</td>\n",
       "      <td>1803724</td>\n",
       "      <td>1512475</td>\n",
       "      <td>1658100</td>\n",
       "      <td>2350</td>\n",
       "      <td>920</td>\n",
       "      <td>44.0</td>\n",
       "      <td>1</td>\n",
       "      <td>58</td>\n",
       "      <td>12414</td>\n",
       "      <td>685627.3900</td>\n",
       "      <td>7459080.520</td>\n",
       "    </tr>\n",
       "    <tr>\n",
       "      <th>3</th>\n",
       "      <td>0</td>\n",
       "      <td>2.0</td>\n",
       "      <td>0.01</td>\n",
       "      <td>1615</td>\n",
       "      <td>428</td>\n",
       "      <td>310</td>\n",
       "      <td>1124331</td>\n",
       "      <td>1370600</td>\n",
       "      <td>1247466</td>\n",
       "      <td>2200</td>\n",
       "      <td>930</td>\n",
       "      <td>43.0</td>\n",
       "      <td>1</td>\n",
       "      <td>88</td>\n",
       "      <td>11250</td>\n",
       "      <td>685438.2001</td>\n",
       "      <td>7458268.280</td>\n",
       "    </tr>\n",
       "    <tr>\n",
       "      <th>4</th>\n",
       "      <td>0</td>\n",
       "      <td>2.0</td>\n",
       "      <td>1.00</td>\n",
       "      <td>2358</td>\n",
       "      <td>586</td>\n",
       "      <td>287</td>\n",
       "      <td>1165764</td>\n",
       "      <td>1177933</td>\n",
       "      <td>1171849</td>\n",
       "      <td>2150</td>\n",
       "      <td>918</td>\n",
       "      <td>42.0</td>\n",
       "      <td>1</td>\n",
       "      <td>68</td>\n",
       "      <td>13382</td>\n",
       "      <td>685764.3840</td>\n",
       "      <td>7458954.513</td>\n",
       "    </tr>\n",
       "  </tbody>\n",
       "</table>\n",
       "</div>"
      ],
      "text/plain": [
       "   Posicao  Quartos  Vagas  DistIpanema  DistPraia  DistFavela  RendaMedia  \\\n",
       "0        1      3.0   0.01         1144        311         146      969501   \n",
       "1        0      2.0   0.01         2456        502         254     1472861   \n",
       "2        0      2.0   0.01         2448        772         229     1803724   \n",
       "3        0      2.0   0.01         1615        428         310     1124331   \n",
       "4        0      2.0   1.00         2358        586         287     1165764   \n",
       "\n",
       "   RendaMovel  RendaMovelRua  Vu2009  Mes  Idade  Tipologia  AreaConstruida  \\\n",
       "0     1028834         999168    1750  509   37.0          1              95   \n",
       "1     1137759        1305310    2300  484   30.0          1              71   \n",
       "2     1512475        1658100    2350  920   44.0          1              58   \n",
       "3     1370600        1247466    2200  930   43.0          1              88   \n",
       "4     1177933        1171849    2150  918   42.0          1              68   \n",
       "\n",
       "   VAL_UNIT            X            Y  \n",
       "0      4379  685365.0700  7457802.680  \n",
       "1      6479  685941.5500  7459001.320  \n",
       "2     12414  685627.3900  7459080.520  \n",
       "3     11250  685438.2001  7458268.280  \n",
       "4     13382  685764.3840  7458954.513  "
      ]
     },
     "execution_count": 3,
     "metadata": {},
     "output_type": "execute_result"
    }
   ],
   "source": [
    "copacabana.head()"
   ]
  },
  {
   "cell_type": "code",
   "execution_count": 4,
   "metadata": {
    "collapsed": true
   },
   "outputs": [],
   "source": [
    "X = copacabana[['Posicao', 'Quartos', 'Vagas', 'DistIpanema', 'DistPraia', 'DistFavela', 'Mes', 'Idade']]"
   ]
  },
  {
   "cell_type": "code",
   "execution_count": 5,
   "metadata": {
    "collapsed": true
   },
   "outputs": [],
   "source": [
    "Y = copacabana['VAL_UNIT']"
   ]
  },
  {
   "cell_type": "code",
   "execution_count": 7,
   "metadata": {},
   "outputs": [
    {
     "data": {
      "text/plain": [
       "MLPRegressor(activation='relu', alpha=0.0001, batch_size='auto', beta_1=0.9,\n",
       "       beta_2=0.999, early_stopping=False, epsilon=1e-08,\n",
       "       hidden_layer_sizes=(100,), learning_rate='constant',\n",
       "       learning_rate_init=0.001, max_iter=200, momentum=0.9,\n",
       "       nesterovs_momentum=True, power_t=0.5, random_state=None,\n",
       "       shuffle=True, solver='adam', tol=0.0001, validation_fraction=0.1,\n",
       "       verbose=False, warm_start=False)"
      ]
     },
     "execution_count": 7,
     "metadata": {},
     "output_type": "execute_result"
    }
   ],
   "source": [
    "clf = neural_network.MLPRegressor(hidden_layer_sizes=(100,))\n",
    "clf.fit(X, Y)"
   ]
  },
  {
   "cell_type": "code",
   "execution_count": 8,
   "metadata": {},
   "outputs": [
    {
     "data": {
      "text/plain": [
       "0.63016336092045155"
      ]
     },
     "execution_count": 8,
     "metadata": {},
     "output_type": "execute_result"
    }
   ],
   "source": [
    "clf.score(X, Y)"
   ]
  },
  {
   "cell_type": "code",
   "execution_count": null,
   "metadata": {
    "collapsed": true
   },
   "outputs": [],
   "source": []
  }
 ],
 "metadata": {
  "kernelspec": {
   "display_name": "Python 3",
   "language": "python",
   "name": "python3"
  },
  "language_info": {
   "codemirror_mode": {
    "name": "ipython",
    "version": 3
   },
   "file_extension": ".py",
   "mimetype": "text/x-python",
   "name": "python",
   "nbconvert_exporter": "python",
   "pygments_lexer": "ipython3",
   "version": "3.6.1"
  }
 },
 "nbformat": 4,
 "nbformat_minor": 2
}
