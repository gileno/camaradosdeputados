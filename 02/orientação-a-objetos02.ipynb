{
 "cells": [
  {
   "cell_type": "code",
   "execution_count": 4,
   "metadata": {
    "collapsed": true
   },
   "outputs": [],
   "source": [
    "import random\n",
    "class Conta:\n",
    "    \n",
    "    def __init__(self, nome, saldo=0.0):\n",
    "        self.nome = nome\n",
    "        self.saldo = saldo\n",
    "        self.numero = random.randint(1, 1000)\n",
    "    \n",
    "    def imprimir(self):\n",
    "        print(\"Nome: %s\" % self.nome)\n",
    "        print(\"Número: %04d\" % self.numero)\n",
    "        print(\"Saldo: %.2f\" % self.saldo)"
   ]
  },
  {
   "cell_type": "code",
   "execution_count": 5,
   "metadata": {
    "collapsed": true
   },
   "outputs": [],
   "source": [
    "conta_joao = Conta(\"João\", 100)\n",
    "conta_maria = Conta(\"Maria\", 200)"
   ]
  },
  {
   "cell_type": "code",
   "execution_count": 6,
   "metadata": {},
   "outputs": [
    {
     "name": "stdout",
     "output_type": "stream",
     "text": [
      "Nome: João\n",
      "Número: 0814\n",
      "Saldo: 100.00\n"
     ]
    }
   ],
   "source": [
    "conta_joao.imprimir()"
   ]
  },
  {
   "cell_type": "code",
   "execution_count": 7,
   "metadata": {},
   "outputs": [
    {
     "name": "stdout",
     "output_type": "stream",
     "text": [
      "Nome: Maria\n",
      "Número: 0567\n",
      "Saldo: 200.00\n"
     ]
    }
   ],
   "source": [
    "conta_maria.imprimir()"
   ]
  },
  {
   "cell_type": "code",
   "execution_count": 9,
   "metadata": {},
   "outputs": [],
   "source": [
    "class Conta:\n",
    "    def __init__(self, nome, saldo=0.0):\n",
    "        self.nome = nome\n",
    "        self.saldo = saldo\n",
    "        self.numero = random.randint(1, 1000)\n",
    "    def imprimir(self):\n",
    "        print(\"Nome: %s\" % self.nome)\n",
    "        print(\"Número: %04d\" % self.numero)\n",
    "        print(\"Saldo: %.2f\" % self.saldo)\n",
    "    def saque(self, valor):\n",
    "        self.saldo = self.saldo - valor\n",
    "    def deposito(self, valor):\n",
    "        self.saldo = self.saldo + valor"
   ]
  },
  {
   "cell_type": "code",
   "execution_count": 15,
   "metadata": {
    "collapsed": true
   },
   "outputs": [],
   "source": [
    "conta = Conta(\"João\", 100)"
   ]
  },
  {
   "cell_type": "code",
   "execution_count": 16,
   "metadata": {
    "collapsed": true
   },
   "outputs": [],
   "source": [
    "conta.saque(100)\n",
    "conta.saque(150)"
   ]
  },
  {
   "cell_type": "code",
   "execution_count": 17,
   "metadata": {},
   "outputs": [
    {
     "name": "stdout",
     "output_type": "stream",
     "text": [
      "Nome: João\n",
      "Número: 0555\n",
      "Saldo: -150.00\n"
     ]
    }
   ],
   "source": [
    "conta.imprimir()"
   ]
  },
  {
   "cell_type": "code",
   "execution_count": 18,
   "metadata": {
    "collapsed": true
   },
   "outputs": [],
   "source": [
    "class Conta:\n",
    "    def __init__(self, nome, saldo=0.0):\n",
    "        self.nome = nome\n",
    "        self.saldo = saldo\n",
    "        self.numero = random.randint(1, 1000)\n",
    "    def imprimir(self):\n",
    "        print(\"Nome: %s\" % self.nome)\n",
    "        print(\"Número: %04d\" % self.numero)\n",
    "        print(\"Saldo: %.2f\" % self.saldo)\n",
    "    def saque(self, valor):\n",
    "        if self.saldo < valor:\n",
    "            print(\"Saldo insuficiente\")\n",
    "        else:\n",
    "            self.saldo = self.saldo - valor\n",
    "    def deposito(self, valor):\n",
    "        self.saldo = self.saldo + valor"
   ]
  },
  {
   "cell_type": "code",
   "execution_count": 19,
   "metadata": {
    "collapsed": true
   },
   "outputs": [],
   "source": [
    "conta = Conta(\"João\", 200)"
   ]
  },
  {
   "cell_type": "code",
   "execution_count": 20,
   "metadata": {},
   "outputs": [
    {
     "name": "stdout",
     "output_type": "stream",
     "text": [
      "Saldo insuficiente\n"
     ]
    }
   ],
   "source": [
    "conta.saque(300)"
   ]
  },
  {
   "cell_type": "code",
   "execution_count": 21,
   "metadata": {},
   "outputs": [
    {
     "name": "stdout",
     "output_type": "stream",
     "text": [
      "Nome: João\n",
      "Número: 0316\n",
      "Saldo: 200.00\n"
     ]
    }
   ],
   "source": [
    "conta.imprimir()"
   ]
  },
  {
   "cell_type": "code",
   "execution_count": 22,
   "metadata": {
    "collapsed": true
   },
   "outputs": [],
   "source": [
    "class Conta:\n",
    "    def __init__(self, nome, saldo=0.0):\n",
    "        self.nome = nome\n",
    "        self.saldo = saldo\n",
    "        self.numero = random.randint(1, 1000)\n",
    "    def imprimir(self):\n",
    "        print(\"Nome: %s\" % self.nome)\n",
    "        print(\"Número: %04d\" % self.numero)\n",
    "        print(\"Saldo: %.2f\" % self.saldo)\n",
    "    def saque(self, valor):\n",
    "        if self.saldo < valor:\n",
    "            print(\"Saldo insuficiente\")\n",
    "        else:\n",
    "            self.saldo = self.saldo - valor\n",
    "    def deposito(self, valor):\n",
    "        self.saldo = self.saldo + valor\n",
    "    def transferir(self, outra_conta, valor):\n",
    "        \"\"\"Recebe uma instância de conta e um valor a ser transferido\"\"\"\n",
    "        self.saque(valor)\n",
    "        outra_conta.deposito(valor)"
   ]
  },
  {
   "cell_type": "code",
   "execution_count": 23,
   "metadata": {
    "collapsed": true
   },
   "outputs": [],
   "source": [
    "conta_joao = Conta(\"João\", 100)\n",
    "conta_maria = Conta(\"Maria\", 200)"
   ]
  },
  {
   "cell_type": "code",
   "execution_count": 24,
   "metadata": {},
   "outputs": [
    {
     "name": "stdout",
     "output_type": "stream",
     "text": [
      "Saldo insuficiente\n"
     ]
    }
   ],
   "source": [
    "conta_maria.transferir(conta_joao, 300)"
   ]
  },
  {
   "cell_type": "code",
   "execution_count": 25,
   "metadata": {},
   "outputs": [
    {
     "name": "stdout",
     "output_type": "stream",
     "text": [
      "Nome: João\n",
      "Número: 0764\n",
      "Saldo: 400.00\n"
     ]
    }
   ],
   "source": [
    "conta_joao.imprimir()"
   ]
  },
  {
   "cell_type": "code",
   "execution_count": 26,
   "metadata": {
    "collapsed": true
   },
   "outputs": [],
   "source": [
    "class Conta:\n",
    "    def __init__(self, nome, saldo=0.0):\n",
    "        self.nome = nome\n",
    "        self.saldo = saldo\n",
    "        self.numero = random.randint(1, 1000)\n",
    "    def imprimir(self):\n",
    "        print(\"Nome: %s\" % self.nome)\n",
    "        print(\"Número: %04d\" % self.numero)\n",
    "        print(\"Saldo: %.2f\" % self.saldo)\n",
    "    def saque(self, valor):\n",
    "        if self.saldo < valor:\n",
    "            print(\"Saldo insuficiente\")\n",
    "            return False\n",
    "        else:\n",
    "            self.saldo = self.saldo - valor\n",
    "            return True\n",
    "    def deposito(self, valor):\n",
    "        self.saldo = self.saldo + valor\n",
    "    def transferir(self, outra_conta, valor):\n",
    "        \"\"\"Recebe uma instância de conta e um valor a ser transferido\"\"\"\n",
    "        if self.saque(valor):\n",
    "            outra_conta.deposito(valor)"
   ]
  },
  {
   "cell_type": "code",
   "execution_count": 27,
   "metadata": {},
   "outputs": [
    {
     "name": "stdout",
     "output_type": "stream",
     "text": [
      "Saldo insuficiente\n",
      "Nome: João\n",
      "Número: 0087\n",
      "Saldo: 100.00\n"
     ]
    }
   ],
   "source": [
    "conta_joao = Conta(\"João\", 100)\n",
    "conta_maria = Conta(\"Maria\", 200)\n",
    "conta_maria.transferir(conta_joao, 300)\n",
    "conta_joao.imprimir()"
   ]
  },
  {
   "cell_type": "code",
   "execution_count": 29,
   "metadata": {
    "collapsed": true
   },
   "outputs": [],
   "source": [
    "class Conta:\n",
    "    def __init__(self, nome, saldo=0.0):\n",
    "        self.nome = nome\n",
    "        self.saldo = saldo\n",
    "        self.numero = random.randint(1, 1000)\n",
    "    def imprimir(self):\n",
    "        print(\"Nome: %s\" % self.nome)\n",
    "        print(\"Número: %04d\" % self.numero)\n",
    "        print(\"Saldo: %.2f\" % self.saldo)\n",
    "    def saque(self, valor):\n",
    "        if self.saldo < valor:\n",
    "            raise ValueError(\"Saldo insuficiente!\")\n",
    "        self.saldo = self.saldo - valor\n",
    "    def deposito(self, valor):\n",
    "        self.saldo = self.saldo + valor\n",
    "    def transferir(self, outra_conta, valor):\n",
    "        \"\"\"Recebe uma instância de conta e um valor a ser transferido\"\"\"\n",
    "        self.saque(valor)\n",
    "        outra_conta.deposito(valor)"
   ]
  },
  {
   "cell_type": "code",
   "execution_count": 30,
   "metadata": {},
   "outputs": [
    {
     "ename": "ValueError",
     "evalue": "Saldo insuficiente!",
     "output_type": "error",
     "traceback": [
      "\u001b[1;31m---------------------------------------------------------------------------\u001b[0m",
      "\u001b[1;31mValueError\u001b[0m                                Traceback (most recent call last)",
      "\u001b[1;32m<ipython-input-30-94ce63bb7b57>\u001b[0m in \u001b[0;36m<module>\u001b[1;34m()\u001b[0m\n\u001b[0;32m      1\u001b[0m \u001b[0mconta_joao\u001b[0m \u001b[1;33m=\u001b[0m \u001b[0mConta\u001b[0m\u001b[1;33m(\u001b[0m\u001b[1;34m\"João\"\u001b[0m\u001b[1;33m,\u001b[0m \u001b[1;36m100\u001b[0m\u001b[1;33m)\u001b[0m\u001b[1;33m\u001b[0m\u001b[0m\n\u001b[0;32m      2\u001b[0m \u001b[0mconta_maria\u001b[0m \u001b[1;33m=\u001b[0m \u001b[0mConta\u001b[0m\u001b[1;33m(\u001b[0m\u001b[1;34m\"Maria\"\u001b[0m\u001b[1;33m,\u001b[0m \u001b[1;36m200\u001b[0m\u001b[1;33m)\u001b[0m\u001b[1;33m\u001b[0m\u001b[0m\n\u001b[1;32m----> 3\u001b[1;33m \u001b[0mconta_maria\u001b[0m\u001b[1;33m.\u001b[0m\u001b[0mtransferir\u001b[0m\u001b[1;33m(\u001b[0m\u001b[0mconta_joao\u001b[0m\u001b[1;33m,\u001b[0m \u001b[1;36m300\u001b[0m\u001b[1;33m)\u001b[0m\u001b[1;33m\u001b[0m\u001b[0m\n\u001b[0m\u001b[0;32m      4\u001b[0m \u001b[0mconta_joao\u001b[0m\u001b[1;33m.\u001b[0m\u001b[0mimprimir\u001b[0m\u001b[1;33m(\u001b[0m\u001b[1;33m)\u001b[0m\u001b[1;33m\u001b[0m\u001b[0m\n",
      "\u001b[1;32m<ipython-input-29-8376663b23f3>\u001b[0m in \u001b[0;36mtransferir\u001b[1;34m(self, outra_conta, valor)\u001b[0m\n\u001b[0;32m     16\u001b[0m     \u001b[1;32mdef\u001b[0m \u001b[0mtransferir\u001b[0m\u001b[1;33m(\u001b[0m\u001b[0mself\u001b[0m\u001b[1;33m,\u001b[0m \u001b[0moutra_conta\u001b[0m\u001b[1;33m,\u001b[0m \u001b[0mvalor\u001b[0m\u001b[1;33m)\u001b[0m\u001b[1;33m:\u001b[0m\u001b[1;33m\u001b[0m\u001b[0m\n\u001b[0;32m     17\u001b[0m         \u001b[1;34m\"\"\"Recebe uma instância de conta e um valor a ser transferido\"\"\"\u001b[0m\u001b[1;33m\u001b[0m\u001b[0m\n\u001b[1;32m---> 18\u001b[1;33m         \u001b[0mself\u001b[0m\u001b[1;33m.\u001b[0m\u001b[0msaque\u001b[0m\u001b[1;33m(\u001b[0m\u001b[0mvalor\u001b[0m\u001b[1;33m)\u001b[0m\u001b[1;33m\u001b[0m\u001b[0m\n\u001b[0m\u001b[0;32m     19\u001b[0m         \u001b[0moutra_conta\u001b[0m\u001b[1;33m.\u001b[0m\u001b[0mdeposito\u001b[0m\u001b[1;33m(\u001b[0m\u001b[0mvalor\u001b[0m\u001b[1;33m)\u001b[0m\u001b[1;33m\u001b[0m\u001b[0m\n",
      "\u001b[1;32m<ipython-input-29-8376663b23f3>\u001b[0m in \u001b[0;36msaque\u001b[1;34m(self, valor)\u001b[0m\n\u001b[0;32m     10\u001b[0m     \u001b[1;32mdef\u001b[0m \u001b[0msaque\u001b[0m\u001b[1;33m(\u001b[0m\u001b[0mself\u001b[0m\u001b[1;33m,\u001b[0m \u001b[0mvalor\u001b[0m\u001b[1;33m)\u001b[0m\u001b[1;33m:\u001b[0m\u001b[1;33m\u001b[0m\u001b[0m\n\u001b[0;32m     11\u001b[0m         \u001b[1;32mif\u001b[0m \u001b[0mself\u001b[0m\u001b[1;33m.\u001b[0m\u001b[0msaldo\u001b[0m \u001b[1;33m<\u001b[0m \u001b[0mvalor\u001b[0m\u001b[1;33m:\u001b[0m\u001b[1;33m\u001b[0m\u001b[0m\n\u001b[1;32m---> 12\u001b[1;33m             \u001b[1;32mraise\u001b[0m \u001b[0mValueError\u001b[0m\u001b[1;33m(\u001b[0m\u001b[1;34m\"Saldo insuficiente!\"\u001b[0m\u001b[1;33m)\u001b[0m\u001b[1;33m\u001b[0m\u001b[0m\n\u001b[0m\u001b[0;32m     13\u001b[0m         \u001b[0mself\u001b[0m\u001b[1;33m.\u001b[0m\u001b[0msaldo\u001b[0m \u001b[1;33m=\u001b[0m \u001b[0mself\u001b[0m\u001b[1;33m.\u001b[0m\u001b[0msaldo\u001b[0m \u001b[1;33m-\u001b[0m \u001b[0mvalor\u001b[0m\u001b[1;33m\u001b[0m\u001b[0m\n\u001b[0;32m     14\u001b[0m     \u001b[1;32mdef\u001b[0m \u001b[0mdeposito\u001b[0m\u001b[1;33m(\u001b[0m\u001b[0mself\u001b[0m\u001b[1;33m,\u001b[0m \u001b[0mvalor\u001b[0m\u001b[1;33m)\u001b[0m\u001b[1;33m:\u001b[0m\u001b[1;33m\u001b[0m\u001b[0m\n",
      "\u001b[1;31mValueError\u001b[0m: Saldo insuficiente!"
     ]
    }
   ],
   "source": [
    "conta_joao = Conta(\"João\", 100)\n",
    "conta_maria = Conta(\"Maria\", 200)\n",
    "conta_maria.transferir(conta_joao, 300)\n",
    "conta_joao.imprimir()"
   ]
  },
  {
   "cell_type": "code",
   "execution_count": 31,
   "metadata": {},
   "outputs": [
    {
     "name": "stdout",
     "output_type": "stream",
     "text": [
      "Saldo insuficiente!\n",
      "Nome: João\n",
      "Número: 0558\n",
      "Saldo: 100.00\n"
     ]
    }
   ],
   "source": [
    "conta_joao = Conta(\"João\", 100)\n",
    "conta_maria = Conta(\"Maria\", 200)\n",
    "try:\n",
    "    conta_maria.transferir(conta_joao, 300)\n",
    "except ValueError as ex:\n",
    "    print(ex)\n",
    "finally:\n",
    "    conta_joao.imprimir()"
   ]
  },
  {
   "cell_type": "code",
   "execution_count": 32,
   "metadata": {},
   "outputs": [
    {
     "name": "stdout",
     "output_type": "stream",
     "text": [
      "Nome: João\n",
      "Número: 0433\n",
      "Saldo: 200.00\n"
     ]
    }
   ],
   "source": [
    "conta_joao = Conta(\"João\", 100)\n",
    "conta_maria = Conta(\"Maria\", 200)\n",
    "try:\n",
    "    conta_maria.transferir(conta_joao, 100)\n",
    "except ValueError as ex:\n",
    "    print(ex)\n",
    "finally:\n",
    "    conta_joao.imprimir()"
   ]
  },
  {
   "cell_type": "code",
   "execution_count": null,
   "metadata": {
    "collapsed": true
   },
   "outputs": [],
   "source": []
  }
 ],
 "metadata": {
  "kernelspec": {
   "display_name": "Python 3",
   "language": "python",
   "name": "python3"
  },
  "language_info": {
   "codemirror_mode": {
    "name": "ipython",
    "version": 3
   },
   "file_extension": ".py",
   "mimetype": "text/x-python",
   "name": "python",
   "nbconvert_exporter": "python",
   "pygments_lexer": "ipython3",
   "version": "3.6.1"
  }
 },
 "nbformat": 4,
 "nbformat_minor": 2
}
