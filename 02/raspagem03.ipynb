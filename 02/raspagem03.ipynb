{
 "cells": [
  {
   "cell_type": "code",
   "execution_count": 3,
   "metadata": {
    "collapsed": true
   },
   "outputs": [],
   "source": [
    "import requests\n",
    "from requests.auth import HTTPProxyAuth\n",
    "\n",
    "proxies = {'no': 'pass'}\n",
    "auth = HTTPProxyAuth('instrutor02', 'instrutor')\n",
    "\n",
    "resposta = requests.get(\n",
    "    'http://viacep.com.br/ws/70160900/json/',\n",
    "    auth=auth, proxies=proxies\n",
    ")"
   ]
  },
  {
   "cell_type": "code",
   "execution_count": 4,
   "metadata": {},
   "outputs": [
    {
     "data": {
      "text/plain": [
       "'{\\n  \"cep\": \"70160-900\",\\n  \"logradouro\": \"Praça dos Três Poderes\",\\n  \"complemento\": \"\",\\n  \"bairro\": \"Zona Cívico-Administrativa\",\\n  \"localidade\": \"Brasília\",\\n  \"uf\": \"DF\",\\n  \"unidade\": \"\",\\n  \"ibge\": \"5300108\",\\n  \"gia\": \"\"\\n}'"
      ]
     },
     "execution_count": 4,
     "metadata": {},
     "output_type": "execute_result"
    }
   ],
   "source": [
    "resposta.text"
   ]
  },
  {
   "cell_type": "code",
   "execution_count": 5,
   "metadata": {
    "collapsed": true
   },
   "outputs": [],
   "source": [
    "dados = resposta.json()"
   ]
  },
  {
   "cell_type": "code",
   "execution_count": 6,
   "metadata": {},
   "outputs": [
    {
     "data": {
      "text/plain": [
       "{'bairro': 'Zona Cívico-Administrativa',\n",
       " 'cep': '70160-900',\n",
       " 'complemento': '',\n",
       " 'gia': '',\n",
       " 'ibge': '5300108',\n",
       " 'localidade': 'Brasília',\n",
       " 'logradouro': 'Praça dos Três Poderes',\n",
       " 'uf': 'DF',\n",
       " 'unidade': ''}"
      ]
     },
     "execution_count": 6,
     "metadata": {},
     "output_type": "execute_result"
    }
   ],
   "source": [
    "dados"
   ]
  },
  {
   "cell_type": "code",
   "execution_count": 7,
   "metadata": {},
   "outputs": [
    {
     "data": {
      "text/plain": [
       "'DF'"
      ]
     },
     "execution_count": 7,
     "metadata": {},
     "output_type": "execute_result"
    }
   ],
   "source": [
    "dados['uf']"
   ]
  },
  {
   "cell_type": "code",
   "execution_count": null,
   "metadata": {
    "collapsed": true
   },
   "outputs": [],
   "source": []
  }
 ],
 "metadata": {
  "kernelspec": {
   "display_name": "Python 3",
   "language": "python",
   "name": "python3"
  },
  "language_info": {
   "codemirror_mode": {
    "name": "ipython",
    "version": 3
   },
   "file_extension": ".py",
   "mimetype": "text/x-python",
   "name": "python",
   "nbconvert_exporter": "python",
   "pygments_lexer": "ipython3",
   "version": "3.6.1"
  }
 },
 "nbformat": 4,
 "nbformat_minor": 2
}
