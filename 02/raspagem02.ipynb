{
 "cells": [
  {
   "cell_type": "code",
   "execution_count": 1,
   "metadata": {
    "collapsed": true
   },
   "outputs": [],
   "source": [
    "import requests\n",
    "from requests.auth import HTTPProxyAuth"
   ]
  },
  {
   "cell_type": "code",
   "execution_count": 2,
   "metadata": {
    "collapsed": true
   },
   "outputs": [],
   "source": [
    "from bs4 import BeautifulSoup"
   ]
  },
  {
   "cell_type": "code",
   "execution_count": 3,
   "metadata": {
    "collapsed": true
   },
   "outputs": [],
   "source": [
    "auth = HTTPProxyAuth('instrutor02', 'instrutor')\n",
    "proxies = {'no': 'pass'}\n",
    "resposta = requests.get(\n",
    "    'http://df.olx.com.br/veiculos-e-acessorios/carros',\n",
    "    auth=auth, proxies=proxies\n",
    ")"
   ]
  },
  {
   "cell_type": "code",
   "execution_count": 4,
   "metadata": {},
   "outputs": [
    {
     "data": {
      "text/plain": [
       "200"
      ]
     },
     "execution_count": 4,
     "metadata": {},
     "output_type": "execute_result"
    }
   ],
   "source": [
    "resposta.status_code"
   ]
  },
  {
   "cell_type": "code",
   "execution_count": 5,
   "metadata": {
    "collapsed": true
   },
   "outputs": [],
   "source": [
    "soup = BeautifulSoup(resposta.text, 'html.parser')"
   ]
  },
  {
   "cell_type": "code",
   "execution_count": 7,
   "metadata": {
    "collapsed": true
   },
   "outputs": [],
   "source": [
    "titulo = soup.find('title')"
   ]
  },
  {
   "cell_type": "code",
   "execution_count": 8,
   "metadata": {},
   "outputs": [
    {
     "data": {
      "text/plain": [
       "<title>Carros no Distrito Federal e região, DF | OLX</title>"
      ]
     },
     "execution_count": 8,
     "metadata": {},
     "output_type": "execute_result"
    }
   ],
   "source": [
    "titulo"
   ]
  },
  {
   "cell_type": "code",
   "execution_count": 9,
   "metadata": {
    "collapsed": true
   },
   "outputs": [],
   "source": [
    "anuncios = soup.find_all('h3', {'class': 'OLXad-list-title mb5px'})"
   ]
  },
  {
   "cell_type": "code",
   "execution_count": 10,
   "metadata": {},
   "outputs": [
    {
     "data": {
      "text/plain": [
       "50"
      ]
     },
     "execution_count": 10,
     "metadata": {},
     "output_type": "execute_result"
    }
   ],
   "source": [
    "len(anuncios)"
   ]
  },
  {
   "cell_type": "code",
   "execution_count": 13,
   "metadata": {},
   "outputs": [
    {
     "name": "stdout",
     "output_type": "stream",
     "text": [
      "Fiat Palio - 2013\n",
      "Honda Civic - 2010\n",
      "Fiat Palio Pálio ELX 1,4 - Novo Baixa Quilometragem - 2009\n",
      "Sandero 1.0 Flex Expression 2012/2013 Cor: Branco Apenas 50 mil rodado Único dono - 2013\n",
      "Vw - Volkswagen Gol - 2012\n",
      "Gol Trend 2012/13 pouco rodado - 2012\n",
      "Hyundai Tucson - 2010\n",
      "Fiat Uno - 2010\n",
      "Vw - Volkswagen Logus barato - 1993\n",
      "Vendo ou Troco Por Carro Popular ou Moto - 2001\n",
      "Blazer 2.5 diesel - 1997\n",
      "Etios XS 1.5 Sedan, aceito trocas com volta - 2013\n",
      "Vw - Volkswagen Bora - 2008\n",
      "Gm - Chevrolet Celta - 2009\n",
      "Vw - Volkswagen Gol Gl - 2016\n",
      "Hilux 4x4 3.0 srv automático - 2007\n",
      "Gm - Chevrolet Tracker racker LTZ 1.8 Ecotec(Aut) 2014 + Teto Solar - 2014\n",
      "Gm - Chevrolet Kadett GLS 2.0 - 1998\n",
      "Gol TREND g4 completo 4 portas (Financio) - 2008\n",
      "L200 Triton HLS - 2015/2015 - 2015\n",
      "Compass Longitude AT 2.0 Diesel 4X4 4P 2017 - 2017\n",
      "CHEVROLET CRUZE 2016/2016 1.8 LT SPORT6 16V FLEX 4P AUTOMÁTICO - 2016\n",
      "Strada CD 1.8 3 portas Adventure TOP Zerada. Confira condições de Financiamento - 2015\n",
      "City LX Automático c/couro Conservadíssimo. Confira condições de financiamento - 2013\n",
      "Vw - Volkswagen Golf BLACK EDITION - 2011\n",
      "Fiat - 2001\n",
      "Peugeot vendo ou troco - 2004\n",
      "GM S10 gasolina advantage 2007 Cd - 2007\n",
      "Zafira, 2.0 16v barata - 2002\n",
      "Honda Fit - 2014\n",
      "Fiat Siena - 2008\n",
      "Honda Civic LxL 12/13 Automático - 2012\n",
      "Hyundai Sonata 2011 GLS TETO solar Multimidia TOP AC.trocas - 2011\n",
      "Audi A5 - 2013\n",
      "Honda Fit 2015/15 - 2015\n",
      "Gol g4 100% viável - 2013\n",
      "Vw - Volkswagen Apolo - 1990\n",
      "Fiat Palio 2012 completo - sem sinal - 2012\n",
      "Corsa - 2009\n",
      "C3 GLX 1.4 8V 2011 - Novíssimo, Completo, Bancos de Couro, Revisado - 2011\n",
      "Volkswagen Polo 1.6 10/11 pouco rodado e em excelente estado de conservação, negociamos - 2011\n",
      "Astra gsi 2004 2.0 - 2004\n",
      "Pálio atractive 12/13 compleito- ar - 2012\n",
      "Celta life 1.0 vidro, trava , alarme bem conservado - 2011\n",
      "Vw - Volkswagen Gol 1.6 G6 Comfortline GVI 30mil Km Rodados Estado de ZERO - 2016\n",
      "Vw - Volkswagen Golf - 2008\n",
      "Jeep Compass Limited Diesel - 2018\n",
      "Celta 2 portas básico único dono - 2012\n",
      "Renault Megane - 2008\n",
      "Vw - Volkswagen Gol g - 2012\n"
     ]
    }
   ],
   "source": [
    "for anuncio in anuncios:\n",
    "    print(anuncio.text.strip())"
   ]
  },
  {
   "cell_type": "code",
   "execution_count": null,
   "metadata": {
    "collapsed": true
   },
   "outputs": [],
   "source": []
  }
 ],
 "metadata": {
  "kernelspec": {
   "display_name": "Python 3",
   "language": "python",
   "name": "python3"
  },
  "language_info": {
   "codemirror_mode": {
    "name": "ipython",
    "version": 3
   },
   "file_extension": ".py",
   "mimetype": "text/x-python",
   "name": "python",
   "nbconvert_exporter": "python",
   "pygments_lexer": "ipython3",
   "version": "3.6.1"
  }
 },
 "nbformat": 4,
 "nbformat_minor": 2
}
