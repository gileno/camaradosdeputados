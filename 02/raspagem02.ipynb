{
 "cells": [
  {
   "cell_type": "code",
   "execution_count": 1,
   "metadata": {
    "collapsed": true
   },
   "outputs": [],
   "source": [
    "import requests\n",
    "from requests.auth import HTTPProxyAuth"
   ]
  },
  {
   "cell_type": "code",
   "execution_count": 2,
   "metadata": {
    "collapsed": true
   },
   "outputs": [],
   "source": [
    "from bs4 import BeautifulSoup"
   ]
  },
  {
   "cell_type": "code",
   "execution_count": 3,
   "metadata": {
    "collapsed": true
   },
   "outputs": [],
   "source": [
    "auth = HTTPProxyAuth('instrutor02', 'instrutor')\n",
    "proxies = {'no': 'pass'}\n",
    "resposta = requests.get(\n",
    "    'http://df.olx.com.br/veiculos-e-acessorios/carros',\n",
    "    auth=auth, proxies=proxies\n",
    ")"
   ]
  },
  {
   "cell_type": "code",
   "execution_count": 4,
   "metadata": {},
   "outputs": [
    {
     "data": {
      "text/plain": [
       "200"
      ]
     },
     "execution_count": 4,
     "metadata": {},
     "output_type": "execute_result"
    }
   ],
   "source": [
    "resposta.status_code"
   ]
  },
  {
   "cell_type": "code",
   "execution_count": 5,
   "metadata": {
    "collapsed": true
   },
   "outputs": [],
   "source": [
    "soup = BeautifulSoup(resposta.text, 'html.parser')"
   ]
  },
  {
   "cell_type": "code",
   "execution_count": 7,
   "metadata": {
    "collapsed": true
   },
   "outputs": [],
   "source": [
    "titulo = soup.find('title')"
   ]
  },
  {
   "cell_type": "code",
   "execution_count": 8,
   "metadata": {},
   "outputs": [
    {
     "data": {
      "text/plain": [
       "<title>Carros no Distrito Federal e região, DF | OLX</title>"
      ]
     },
     "execution_count": 8,
     "metadata": {},
     "output_type": "execute_result"
    }
   ],
   "source": [
    "titulo"
   ]
  },
  {
   "cell_type": "code",
   "execution_count": 9,
   "metadata": {
    "collapsed": true
   },
   "outputs": [],
   "source": [
    "anuncios = soup.find_all('h3', {'class': 'OLXad-list-title mb5px'})"
   ]
  },
  {
   "cell_type": "code",
   "execution_count": 10,
   "metadata": {},
   "outputs": [
    {
     "data": {
      "text/plain": [
       "50"
      ]
     },
     "execution_count": 10,
     "metadata": {},
     "output_type": "execute_result"
    }
   ],
   "source": [
    "len(anuncios)"
   ]
  },
  {
   "cell_type": "code",
   "execution_count": 13,
   "metadata": {},
   "outputs": [
    {
     "name": "stdout",
     "output_type": "stream",
     "text": [
      "Fiat Palio - 2013\n",
      "Honda Civic - 2010\n",
      "Fiat Palio Pálio ELX 1,4 - Novo Baixa Quilometragem - 2009\n",
      "Sandero 1.0 Flex Expression 2012/2013 Cor: Branco Apenas 50 mil rodado Único dono - 2013\n",
      "Vw - Volkswagen Gol - 2012\n",
      "Gol Trend 2012/13 pouco rodado - 2012\n",
      "Hyundai Tucson - 2010\n",
      "Fiat Uno - 2010\n",
      "Vw - Volkswagen Logus barato - 1993\n",
      "Vendo ou Troco Por Carro Popular ou Moto - 2001\n",
      "Blazer 2.5 diesel - 1997\n",
      "Etios XS 1.5 Sedan, aceito trocas com volta - 2013\n",
      "Vw - Volkswagen Bora - 2008\n",
      "Gm - Chevrolet Celta - 2009\n",
      "Vw - Volkswagen Gol Gl - 2016\n",
      "Hilux 4x4 3.0 srv automático - 2007\n",
      "Gm - Chevrolet Tracker racker LTZ 1.8 Ecotec(Aut) 2014 + Teto Solar - 2014\n",
      "Gm - Chevrolet Kadett GLS 2.0 - 1998\n",
      "Gol TREND g4 completo 4 portas (Financio) - 2008\n",
      "L200 Triton HLS - 2015/2015 - 2015\n",
      "Compass Longitude AT 2.0 Diesel 4X4 4P 2017 - 2017\n",
      "CHEVROLET CRUZE 2016/2016 1.8 LT SPORT6 16V FLEX 4P AUTOMÁTICO - 2016\n",
      "Strada CD 1.8 3 portas Adventure TOP Zerada. Confira condições de Financiamento - 2015\n",
      "City LX Automático c/couro Conservadíssimo. Confira condições de financiamento - 2013\n",
      "Vw - Volkswagen Golf BLACK EDITION - 2011\n",
      "Fiat - 2001\n",
      "Peugeot vendo ou troco - 2004\n",
      "GM S10 gasolina advantage 2007 Cd - 2007\n",
      "Zafira, 2.0 16v barata - 2002\n",
      "Honda Fit - 2014\n",
      "Fiat Siena - 2008\n",
      "Honda Civic LxL 12/13 Automático - 2012\n",
      "Hyundai Sonata 2011 GLS TETO solar Multimidia TOP AC.trocas - 2011\n",
      "Audi A5 - 2013\n",
      "Honda Fit 2015/15 - 2015\n",
      "Gol g4 100% viável - 2013\n",
      "Vw - Volkswagen Apolo - 1990\n",
      "Fiat Palio 2012 completo - sem sinal - 2012\n",
      "Corsa - 2009\n",
      "C3 GLX 1.4 8V 2011 - Novíssimo, Completo, Bancos de Couro, Revisado - 2011\n",
      "Volkswagen Polo 1.6 10/11 pouco rodado e em excelente estado de conservação, negociamos - 2011\n",
      "Astra gsi 2004 2.0 - 2004\n",
      "Pálio atractive 12/13 compleito- ar - 2012\n",
      "Celta life 1.0 vidro, trava , alarme bem conservado - 2011\n",
      "Vw - Volkswagen Gol 1.6 G6 Comfortline GVI 30mil Km Rodados Estado de ZERO - 2016\n",
      "Vw - Volkswagen Golf - 2008\n",
      "Jeep Compass Limited Diesel - 2018\n",
      "Celta 2 portas básico único dono - 2012\n",
      "Renault Megane - 2008\n",
      "Vw - Volkswagen Gol g - 2012\n"
     ]
    }
   ],
   "source": [
    "for anuncio in anuncios:\n",
    "    print(anuncio.text.strip())"
   ]
  },
  {
   "cell_type": "code",
   "execution_count": 16,
   "metadata": {},
   "outputs": [
    {
     "data": {
      "text/plain": [
       "['OLXad-list-title', 'mb5px']"
      ]
     },
     "execution_count": 16,
     "metadata": {},
     "output_type": "execute_result"
    }
   ],
   "source": [
    "anuncio.attrs['class']"
   ]
  },
  {
   "cell_type": "code",
   "execution_count": 17,
   "metadata": {
    "collapsed": true
   },
   "outputs": [],
   "source": [
    "anuncios = soup.find_all('a', {'class': 'OLXad-list-link'})"
   ]
  },
  {
   "cell_type": "code",
   "execution_count": 18,
   "metadata": {},
   "outputs": [
    {
     "data": {
      "text/plain": [
       "50"
      ]
     },
     "execution_count": 18,
     "metadata": {},
     "output_type": "execute_result"
    }
   ],
   "source": [
    "len(anuncios)"
   ]
  },
  {
   "cell_type": "code",
   "execution_count": 19,
   "metadata": {},
   "outputs": [
    {
     "name": "stdout",
     "output_type": "stream",
     "text": [
      "http://df.olx.com.br/distrito-federal-e-regiao/veiculos-e-acessorios/carros/fiat-palio-394901943\n",
      "http://df.olx.com.br/distrito-federal-e-regiao/veiculos-e-acessorios/carros/honda-civic-394901641\n",
      "http://df.olx.com.br/distrito-federal-e-regiao/veiculos-e-acessorios/carros/fiat-palio-palio-elx-1-4-novo-baixa-quilometragem-394901552\n",
      "http://df.olx.com.br/distrito-federal-e-regiao/veiculos-e-acessorios/carros/sandero-1-0-flex-expression-2012-2013-cor-branco-apenas-50-mil-rodado-unico-dono-394901059\n",
      "http://df.olx.com.br/distrito-federal-e-regiao/veiculos-e-acessorios/carros/vw-volkswagen-gol-394901015\n",
      "http://df.olx.com.br/distrito-federal-e-regiao/veiculos-e-acessorios/carros/gol-trend-2012-13-pouco-rodado-394900980\n",
      "http://df.olx.com.br/distrito-federal-e-regiao/veiculos-e-acessorios/carros/hyundai-tucson-394901620\n",
      "http://df.olx.com.br/distrito-federal-e-regiao/veiculos-e-acessorios/carros/fiat-uno-394900213\n",
      "http://df.olx.com.br/distrito-federal-e-regiao/veiculos-e-acessorios/carros/vw-volkswagen-logus-barato-394900141\n",
      "http://df.olx.com.br/distrito-federal-e-regiao/veiculos-e-acessorios/carros/vendo-ou-troco-por-carro-popular-ou-moto-394900080\n",
      "http://df.olx.com.br/distrito-federal-e-regiao/veiculos-e-acessorios/carros/blazer-2-5-diesel-394899966\n",
      "http://df.olx.com.br/distrito-federal-e-regiao/veiculos-e-acessorios/carros/etios-xs-1-5-sedan-aceito-trocas-com-volta-394899952\n",
      "http://df.olx.com.br/distrito-federal-e-regiao/veiculos-e-acessorios/carros/vw-volkswagen-bora-394901035\n",
      "http://df.olx.com.br/distrito-federal-e-regiao/veiculos-e-acessorios/carros/gm-chevrolet-celta-394899609\n",
      "http://df.olx.com.br/distrito-federal-e-regiao/veiculos-e-acessorios/carros/vw-volkswagen-gol-gl-394900785\n",
      "http://df.olx.com.br/distrito-federal-e-regiao/veiculos-e-acessorios/carros/hilux-4x4-3-0-srv-automatico-394899599\n",
      "http://df.olx.com.br/distrito-federal-e-regiao/veiculos-e-acessorios/carros/gm-chevrolet-tracker-racker-ltz-1-8-ecotec-aut-2014-teto-solar-394899594\n",
      "http://df.olx.com.br/distrito-federal-e-regiao/veiculos-e-acessorios/carros/gm-chevrolet-kadett-gls-2-0-394900744\n",
      "http://df.olx.com.br/distrito-federal-e-regiao/veiculos-e-acessorios/carros/gol-trend-g4-completo-4-portas-financio-394900678\n",
      "http://df.olx.com.br/distrito-federal-e-regiao/veiculos-e-acessorios/carros/l200-triton-hls-2015-2015-312155597\n",
      "http://df.olx.com.br/distrito-federal-e-regiao/veiculos-e-acessorios/carros/compass-longitude-at-2-0-diesel-4x4-4p-2017-363018168\n",
      "http://df.olx.com.br/distrito-federal-e-regiao/veiculos-e-acessorios/carros/chevrolet-cruze-2016-2016-1-8-lt-sport6-16v-flex-4p-automatico-375081587\n",
      "http://df.olx.com.br/distrito-federal-e-regiao/veiculos-e-acessorios/carros/strada-cd-1-8-3-portas-adventure-top-zerada-confira-condicoes-de-financiamento-361172601\n",
      "http://df.olx.com.br/distrito-federal-e-regiao/veiculos-e-acessorios/carros/city-lx-automatico-c-couro-conservadissimo-confira-condicoes-de-financiamento-393482971\n",
      "http://df.olx.com.br/distrito-federal-e-regiao/veiculos-e-acessorios/carros/vw-volkswagen-golf-black-edition-394900306\n",
      "http://df.olx.com.br/distrito-federal-e-regiao/veiculos-e-acessorios/carros/fiat-394900146\n",
      "http://df.olx.com.br/distrito-federal-e-regiao/veiculos-e-acessorios/carros/peugeot-vendo-ou-troco-394899019\n",
      "http://df.olx.com.br/distrito-federal-e-regiao/veiculos-e-acessorios/carros/gm-s10-gasolina-advantage-2007-cd-394899012\n",
      "http://df.olx.com.br/distrito-federal-e-regiao/veiculos-e-acessorios/carros/zafira-2-0-16v-barata-394898658\n",
      "http://df.olx.com.br/distrito-federal-e-regiao/veiculos-e-acessorios/carros/honda-fit-394898657\n",
      "http://df.olx.com.br/distrito-federal-e-regiao/veiculos-e-acessorios/carros/fiat-siena-394898619\n",
      "http://df.olx.com.br/distrito-federal-e-regiao/veiculos-e-acessorios/carros/honda-civic-lxl-12-13-automatico-394898512\n",
      "http://df.olx.com.br/distrito-federal-e-regiao/veiculos-e-acessorios/carros/hyundai-sonata-2011-gls-teto-solar-multimidia-top-ac-trocas-394900703\n",
      "http://df.olx.com.br/distrito-federal-e-regiao/veiculos-e-acessorios/carros/audi-a5-394899383\n",
      "http://df.olx.com.br/distrito-federal-e-regiao/veiculos-e-acessorios/carros/honda-fit-2015-15-394898130\n",
      "http://df.olx.com.br/distrito-federal-e-regiao/veiculos-e-acessorios/carros/gol-g4-100-viavel-394897967\n",
      "http://df.olx.com.br/distrito-federal-e-regiao/veiculos-e-acessorios/carros/vw-volkswagen-apolo-394897965\n",
      "http://df.olx.com.br/distrito-federal-e-regiao/veiculos-e-acessorios/carros/fiat-palio-2012-completo-sem-sinal-394897943\n",
      "http://df.olx.com.br/distrito-federal-e-regiao/veiculos-e-acessorios/carros/corsa-394897850\n",
      "http://df.olx.com.br/distrito-federal-e-regiao/veiculos-e-acessorios/carros/c3-glx-1-4-8v-2011-novissimo-completo-bancos-de-couro-revisado-394898830\n",
      "http://df.olx.com.br/distrito-federal-e-regiao/veiculos-e-acessorios/carros/volkswagen-polo-1-6-10-11-pouco-rodado-e-em-excelente-estado-de-conservacao-negociamos-394898757\n",
      "http://df.olx.com.br/distrito-federal-e-regiao/veiculos-e-acessorios/carros/astra-gsi-2004-2-0-394897439\n",
      "http://df.olx.com.br/distrito-federal-e-regiao/veiculos-e-acessorios/carros/palio-atractive-12-13-compleito-ar-394897256\n",
      "http://df.olx.com.br/distrito-federal-e-regiao/veiculos-e-acessorios/carros/celta-life-1-0-vidro-trava-alarme-bem-conservado-394898386\n",
      "http://df.olx.com.br/distrito-federal-e-regiao/veiculos-e-acessorios/carros/vw-volkswagen-gol-1-6-g6-comfortline-gvi-30mil-km-rodados-estado-de-zero-379320431\n",
      "http://df.olx.com.br/distrito-federal-e-regiao/veiculos-e-acessorios/carros/vw-volkswagen-golf-394897761\n",
      "http://df.olx.com.br/distrito-federal-e-regiao/veiculos-e-acessorios/carros/jeep-compass-limited-diesel-377000307\n",
      "http://df.olx.com.br/distrito-federal-e-regiao/veiculos-e-acessorios/carros/celta-2-portas-basico-unico-dono-394896370\n",
      "http://df.olx.com.br/distrito-federal-e-regiao/veiculos-e-acessorios/carros/renault-megane-394896376\n",
      "http://df.olx.com.br/distrito-federal-e-regiao/veiculos-e-acessorios/carros/vw-volkswagen-gol-g-394896230\n"
     ]
    }
   ],
   "source": [
    "for anuncio in anuncios:\n",
    "    print(anuncio.attrs['href'])"
   ]
  },
  {
   "cell_type": "code",
   "execution_count": 20,
   "metadata": {
    "collapsed": true
   },
   "outputs": [],
   "source": [
    "def detalhes_anuncio(link):\n",
    "    auth = HTTPProxyAuth('instrutor02', 'instrutor')\n",
    "    proxies = {'no': 'pass'}\n",
    "    resposta = requests.get(\n",
    "        link, auth=auth, proxies=proxies\n",
    "    )\n",
    "    soup = BeautifulSoup(resposta.text, 'html.parser')\n",
    "    titulo = soup.find('title')\n",
    "    preco = soup.find('span', {'class': 'OLXad-price'})\n",
    "    return {\n",
    "        'titulo': titulo,\n",
    "        'preco': preco\n",
    "    }"
   ]
  },
  {
   "cell_type": "code",
   "execution_count": 21,
   "metadata": {
    "collapsed": true
   },
   "outputs": [],
   "source": [
    "detalhes = []\n",
    "for anuncio in anuncios:\n",
    "    link = anuncio.attrs['href']\n",
    "    detalhes.append(detalhes_anuncio(link))"
   ]
  },
  {
   "cell_type": "code",
   "execution_count": 22,
   "metadata": {},
   "outputs": [
    {
     "data": {
      "text/plain": [
       "50"
      ]
     },
     "execution_count": 22,
     "metadata": {},
     "output_type": "execute_result"
    }
   ],
   "source": [
    "len(detalhes)"
   ]
  },
  {
   "cell_type": "code",
   "execution_count": 23,
   "metadata": {},
   "outputs": [
    {
     "data": {
      "text/plain": [
       "{'preco': <span class=\"OLXad-price\"> R$ 23.900</span>,\n",
       " 'titulo': <title>Fiat Palio, 2013 - Carros - Parque Esplanada Iii, Valparaíso De Goiás | OLX</title>}"
      ]
     },
     "execution_count": 23,
     "metadata": {},
     "output_type": "execute_result"
    }
   ],
   "source": [
    "detalhes[0]"
   ]
  },
  {
   "cell_type": "code",
   "execution_count": 25,
   "metadata": {},
   "outputs": [],
   "source": [
    "detalhes_limpo = []\n",
    "for detalhe in detalhes:\n",
    "    try:\n",
    "        detalhes_limpo.append({\n",
    "            'preco': detalhe['preco'].text.strip(),\n",
    "            'titulo': detalhe['titulo'].text.strip(),\n",
    "        })\n",
    "    except:\n",
    "        pass"
   ]
  },
  {
   "cell_type": "code",
   "execution_count": 26,
   "metadata": {},
   "outputs": [
    {
     "data": {
      "text/plain": [
       "45"
      ]
     },
     "execution_count": 26,
     "metadata": {},
     "output_type": "execute_result"
    }
   ],
   "source": [
    "len(detalhes_limpo)"
   ]
  },
  {
   "cell_type": "code",
   "execution_count": 27,
   "metadata": {},
   "outputs": [
    {
     "data": {
      "text/plain": [
       "{'preco': 'R$ 23.900',\n",
       " 'titulo': 'Fiat Palio, 2013 - Carros - Parque Esplanada Iii, Valparaíso De Goiás | OLX'}"
      ]
     },
     "execution_count": 27,
     "metadata": {},
     "output_type": "execute_result"
    }
   ],
   "source": [
    "detalhes_limpo[0]"
   ]
  },
  {
   "cell_type": "code",
   "execution_count": 28,
   "metadata": {
    "collapsed": true
   },
   "outputs": [],
   "source": [
    "f = open('carros.csv', 'w')\n",
    "for detalhe in detalhes_limpo:\n",
    "    f.write(detalhe['titulo'])\n",
    "    f.write(\";\")\n",
    "    f.write(detalhe['preco'])\n",
    "    f.write('\\n')\n",
    "f.close()"
   ]
  },
  {
   "cell_type": "code",
   "execution_count": null,
   "metadata": {
    "collapsed": true
   },
   "outputs": [],
   "source": []
  }
 ],
 "metadata": {
  "kernelspec": {
   "display_name": "Python 3",
   "language": "python",
   "name": "python3"
  },
  "language_info": {
   "codemirror_mode": {
    "name": "ipython",
    "version": 3
   },
   "file_extension": ".py",
   "mimetype": "text/x-python",
   "name": "python",
   "nbconvert_exporter": "python",
   "pygments_lexer": "ipython3",
   "version": "3.6.1"
  }
 },
 "nbformat": 4,
 "nbformat_minor": 2
}
