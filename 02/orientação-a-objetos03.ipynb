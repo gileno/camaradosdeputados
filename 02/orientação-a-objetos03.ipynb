{
 "cells": [
  {
   "cell_type": "code",
   "execution_count": 2,
   "metadata": {},
   "outputs": [],
   "source": [
    "from classes.banco import Conta"
   ]
  },
  {
   "cell_type": "code",
   "execution_count": 3,
   "metadata": {
    "collapsed": true
   },
   "outputs": [],
   "source": [
    "class ContaEspecial(Conta):\n",
    "    cheque_especial = 100"
   ]
  },
  {
   "cell_type": "code",
   "execution_count": 4,
   "metadata": {
    "collapsed": true
   },
   "outputs": [],
   "source": [
    "conta_simples = Conta(\"João\")"
   ]
  },
  {
   "cell_type": "code",
   "execution_count": 5,
   "metadata": {},
   "outputs": [
    {
     "ename": "AttributeError",
     "evalue": "'Conta' object has no attribute 'cheque_especial'",
     "output_type": "error",
     "traceback": [
      "\u001b[1;31m---------------------------------------------------------------------------\u001b[0m",
      "\u001b[1;31mAttributeError\u001b[0m                            Traceback (most recent call last)",
      "\u001b[1;32m<ipython-input-5-51a6a01ee24a>\u001b[0m in \u001b[0;36m<module>\u001b[1;34m()\u001b[0m\n\u001b[1;32m----> 1\u001b[1;33m \u001b[0mconta_simples\u001b[0m\u001b[1;33m.\u001b[0m\u001b[0mcheque_especial\u001b[0m\u001b[1;33m\u001b[0m\u001b[0m\n\u001b[0m",
      "\u001b[1;31mAttributeError\u001b[0m: 'Conta' object has no attribute 'cheque_especial'"
     ]
    }
   ],
   "source": [
    "conta_simples.cheque_especial"
   ]
  },
  {
   "cell_type": "code",
   "execution_count": 6,
   "metadata": {
    "collapsed": true
   },
   "outputs": [],
   "source": [
    "conta_especial = ContaEspecial(\"Maria\")"
   ]
  },
  {
   "cell_type": "code",
   "execution_count": 7,
   "metadata": {},
   "outputs": [
    {
     "data": {
      "text/plain": [
       "100"
      ]
     },
     "execution_count": 7,
     "metadata": {},
     "output_type": "execute_result"
    }
   ],
   "source": [
    "conta_especial.cheque_especial"
   ]
  },
  {
   "cell_type": "code",
   "execution_count": 8,
   "metadata": {},
   "outputs": [
    {
     "name": "stdout",
     "output_type": "stream",
     "text": [
      "Nome: Maria\n",
      "Número: 0783\n",
      "Saldo: 100.00\n"
     ]
    }
   ],
   "source": [
    "conta_especial.deposito(100)\n",
    "conta_especial.imprimir()"
   ]
  },
  {
   "cell_type": "code",
   "execution_count": 10,
   "metadata": {},
   "outputs": [],
   "source": [
    "class ContaEspecial(Conta):\n",
    "    cheque_especial = 100\n",
    "    def saque(self, valor):\n",
    "        if (self.saldo + self.cheque_especial) < valor:\n",
    "            raise ValueError(\"Saldo insuficiente!\")\n",
    "        self.saldo = self.saldo - valor"
   ]
  },
  {
   "cell_type": "code",
   "execution_count": 11,
   "metadata": {},
   "outputs": [
    {
     "name": "stdout",
     "output_type": "stream",
     "text": [
      "Nome: Maria\n",
      "Número: 0489\n",
      "Saldo: -50.00\n"
     ]
    }
   ],
   "source": [
    "conta_especial = ContaEspecial(\"Maria\", 200)\n",
    "conta_especial.saque(250)\n",
    "conta_especial.imprimir()"
   ]
  },
  {
   "cell_type": "code",
   "execution_count": 12,
   "metadata": {
    "collapsed": true
   },
   "outputs": [],
   "source": [
    "class ContaEspecial(Conta):\n",
    "    def __init__(self, nome, saldo=0.0, cheque_especial=100):\n",
    "        super(ContaEspecial, self).__init__(nome, saldo)\n",
    "        self.cheque_especial = cheque_especial\n",
    "    def saque(self, valor):\n",
    "        if (self.saldo + self.cheque_especial) < valor:\n",
    "            raise ValueError(\"Saldo insuficiente!\")\n",
    "        self.saldo = self.saldo - valor"
   ]
  },
  {
   "cell_type": "code",
   "execution_count": 13,
   "metadata": {},
   "outputs": [
    {
     "name": "stdout",
     "output_type": "stream",
     "text": [
      "Nome: Maria\n",
      "Número: 0910\n",
      "Saldo: -170.00\n"
     ]
    }
   ],
   "source": [
    "conta_especial = ContaEspecial(\"Maria\", 200, 200)\n",
    "conta_especial.saque(370)\n",
    "conta_especial.imprimir()"
   ]
  },
  {
   "cell_type": "code",
   "execution_count": null,
   "metadata": {
    "collapsed": true
   },
   "outputs": [],
   "source": []
  }
 ],
 "metadata": {
  "kernelspec": {
   "display_name": "Python 3",
   "language": "python",
   "name": "python3"
  },
  "language_info": {
   "codemirror_mode": {
    "name": "ipython",
    "version": 3
   },
   "file_extension": ".py",
   "mimetype": "text/x-python",
   "name": "python",
   "nbconvert_exporter": "python",
   "pygments_lexer": "ipython3",
   "version": "3.6.1"
  }
 },
 "nbformat": 4,
 "nbformat_minor": 2
}
